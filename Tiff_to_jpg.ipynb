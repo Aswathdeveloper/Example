{
 "cells": [
  {
   "cell_type": "code",
   "execution_count": null,
   "id": "272a2c6c-b9c5-449f-bb47-677058d927a5",
   "metadata": {},
   "outputs": [
    {
     "name": "stderr",
     "output_type": "stream",
     "text": [
      "C:\\Users\\aswat\\anaconda3\\Lib\\site-packages\\PIL\\Image.py:3186: DecompressionBombWarning: Image size (1194590208 pixels) exceeds limit of 1000000000 pixels, could be decompression bomb DOS attack.\n",
      "  warnings.warn(\n"
     ]
    }
   ],
   "source": [
    "import os\n",
    "from PIL import Image\n",
    "import numpy as np\n",
    "# Increase the maximum image pixels limit (e.g., 1 billion pixels)\n",
    "Image.MAX_IMAGE_PIXELS = 1000000000\n",
    "\n",
    "def tiff_folder_to_jpg(folder_path, max_image_size=(500, 500)):\n",
    "    for filename in os.listdir(folder_path):\n",
    "        if filename.endswith(\".tiff\") or filename.endswith(\".tif\"):\n",
    "            tiff_path = os.path.join(folder_path, filename)\n",
    "            jpg_path = os.path.join(folder_path, f\"{os.path.splitext(filename)[0]}.jpg\")\n",
    "            with Image.open(tiff_path) as img:\n",
    "                resized_img = np.array(img.resize(max_image_size)).astype(np.uint8)\n",
    "                \n",
    "                resized_img.convert(\"RGB\").save(jpg_path, \"JPEG\")\n",
    "\n",
    "# Example usage\n",
    "folder_path = r\"E:\\Mini project\\new_dataset\"\n",
    "tiff_folder_to_jpg(folder_path)\n"
   ]
  },
  {
   "cell_type": "code",
   "execution_count": null,
   "id": "53364aa1-4f55-46f2-9ae0-0624873928ed",
   "metadata": {},
   "outputs": [],
   "source": []
  }
 ],
 "metadata": {
  "kernelspec": {
   "display_name": "Python 3 (ipykernel)",
   "language": "python",
   "name": "python3"
  },
  "language_info": {
   "codemirror_mode": {
    "name": "ipython",
    "version": 3
   },
   "file_extension": ".py",
   "mimetype": "text/x-python",
   "name": "python",
   "nbconvert_exporter": "python",
   "pygments_lexer": "ipython3",
   "version": "3.11.7"
  }
 },
 "nbformat": 4,
 "nbformat_minor": 5
}
